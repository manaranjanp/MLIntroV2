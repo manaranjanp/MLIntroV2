{
 "cells": [
  {
   "cell_type": "markdown",
   "id": "b4d11b7f",
   "metadata": {},
   "source": [
    "# Loading the Model"
   ]
  },
  {
   "cell_type": "code",
   "execution_count": null,
   "id": "2a14ba4e",
   "metadata": {},
   "outputs": [],
   "source": [
    "import pandas as pd\n",
    "from joblib import load"
   ]
  },
  {
   "cell_type": "code",
   "execution_count": null,
   "id": "c1db5676",
   "metadata": {},
   "outputs": [],
   "source": [
    "class CarPredictionModel():\n",
    "    \n",
    "    def __init__(self, model, features, rmse):\n",
    "        self.model = model\n",
    "        self.features = features\n",
    "        self.rmse = rmse"
   ]
  },
  {
   "cell_type": "code",
   "execution_count": null,
   "id": "73f0be3d",
   "metadata": {},
   "outputs": [],
   "source": [
    "model_object = load('cars.pkl')"
   ]
  },
  {
   "cell_type": "code",
   "execution_count": null,
   "id": "19813d6e",
   "metadata": {},
   "outputs": [],
   "source": [
    "model_object.model"
   ]
  },
  {
   "cell_type": "code",
   "execution_count": null,
   "id": "71f38500",
   "metadata": {},
   "outputs": [],
   "source": [
    "model_object.features"
   ]
  },
  {
   "cell_type": "markdown",
   "id": "272634b1",
   "metadata": {},
   "source": [
    "## Sample Input"
   ]
  },
  {
   "cell_type": "code",
   "execution_count": null,
   "id": "4c5d6645",
   "metadata": {},
   "outputs": [],
   "source": [
    "data = {'KM_Driven' : 55, \n",
    "        'Fuel_Type_Petrol' : 1,\n",
    "        'Transmission_Manual': 1, \n",
    "        'Owner_Type_First': 1,\n",
    "        'Age': 5,\n",
    "        'Seats' : 5,\n",
    "        'Model_swift': 1,\n",
    "        'Mileage' : 16, \n",
    "        'power': 90,\n",
    "        'Location_Bangalore': 1}"
   ]
  },
  {
   "cell_type": "code",
   "execution_count": null,
   "id": "0f4fa88c",
   "metadata": {},
   "outputs": [],
   "source": [
    "car = {}\n",
    "\n",
    "for feature in model_object.features:\n",
    "    car[feature] = data.get(feature, 0.0)"
   ]
  },
  {
   "cell_type": "code",
   "execution_count": null,
   "id": "0925bb28",
   "metadata": {},
   "outputs": [],
   "source": [
    "car"
   ]
  },
  {
   "cell_type": "markdown",
   "id": "550ca230",
   "metadata": {},
   "source": [
    "## Making Prediction"
   ]
  },
  {
   "cell_type": "code",
   "execution_count": null,
   "id": "3f025c8b",
   "metadata": {},
   "outputs": [],
   "source": [
    "car_df = pd.DataFrame(car, index = [0])"
   ]
  },
  {
   "cell_type": "code",
   "execution_count": null,
   "id": "fcdd4e9c",
   "metadata": {},
   "outputs": [],
   "source": [
    "model_object.model.predict(car_df)"
   ]
  }
 ],
 "metadata": {
  "kernelspec": {
   "display_name": "Python 3 (ipykernel)",
   "language": "python",
   "name": "python3"
  },
  "language_info": {
   "codemirror_mode": {
    "name": "ipython",
    "version": 3
   },
   "file_extension": ".py",
   "mimetype": "text/x-python",
   "name": "python",
   "nbconvert_exporter": "python",
   "pygments_lexer": "ipython3",
   "version": "3.10.9"
  }
 },
 "nbformat": 4,
 "nbformat_minor": 5
}
